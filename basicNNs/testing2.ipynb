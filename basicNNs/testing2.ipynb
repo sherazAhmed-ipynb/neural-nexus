{
 "cells": [
  {
   "cell_type": "markdown",
   "metadata": {},
   "source": [
    "# **<center><span style= \"color:#6CBB3C;\">checking the setup for artificial neural networks</span></center>**"
   ]
  },
  {
   "cell_type": "code",
   "execution_count": 1,
   "metadata": {},
   "outputs": [
    {
     "name": "stdout",
     "output_type": "stream",
     "text": [
      "\n",
      "✅ Checking PyTorch Installation...\n",
      "\n",
      "PyTorch version: 2.6.0+cpu\n",
      "CUDA available: False\n",
      "Running on CPU (No GPU detected)\n",
      "\n",
      "Sample PyTorch Tensor: tensor([1., 2., 3.])\n"
     ]
    }
   ],
   "source": [
    "import torch\n",
    "\n",
    "print(\"\\n✅ Checking PyTorch Installation...\\n\")\n",
    "print(\"PyTorch version:\", torch.__version__)\n",
    "\n",
    "# Check if CUDA (GPU support) is available\n",
    "cuda_available = torch.cuda.is_available()\n",
    "print(\"CUDA available:\", cuda_available)\n",
    "\n",
    "if cuda_available:\n",
    "    print(\"GPU Name:\", torch.cuda.get_device_name(0))\n",
    "else:\n",
    "    print(\"Running on CPU (No GPU detected)\")\n",
    "\n",
    "# Create a small tensor to confirm PyTorch works\n",
    "tensor = torch.tensor([1.0, 2.0, 3.0])\n",
    "print(\"\\nSample PyTorch Tensor:\", tensor)\n"
   ]
  },
  {
   "cell_type": "code",
   "execution_count": null,
   "metadata": {},
   "outputs": [],
   "source": []
  }
 ],
 "metadata": {
  "kernelspec": {
   "display_name": "torch_env",
   "language": "python",
   "name": "python3"
  },
  "language_info": {
   "codemirror_mode": {
    "name": "ipython",
    "version": 3
   },
   "file_extension": ".py",
   "mimetype": "text/x-python",
   "name": "python",
   "nbconvert_exporter": "python",
   "pygments_lexer": "ipython3",
   "version": "3.9.21"
  }
 },
 "nbformat": 4,
 "nbformat_minor": 2
}
