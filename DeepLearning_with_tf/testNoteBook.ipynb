{
 "cells": [
  {
   "cell_type": "code",
   "execution_count": 1,
   "id": "e01fbcec",
   "metadata": {},
   "outputs": [
    {
     "name": "stdout",
     "output_type": "stream",
     "text": [
      "python\n"
     ]
    }
   ],
   "source": [
    "print('python')"
   ]
  },
  {
   "cell_type": "code",
   "execution_count": 2,
   "id": "df2406a8",
   "metadata": {},
   "outputs": [
    {
     "name": "stdout",
     "output_type": "stream",
     "text": [
      "python3\n"
     ]
    }
   ],
   "source": [
    "print('python3')"
   ]
  },
  {
   "cell_type": "code",
   "execution_count": 3,
   "id": "a8f0396b",
   "metadata": {},
   "outputs": [],
   "source": [
    "import matplotlib.pyplot as plt"
   ]
  },
  {
   "cell_type": "code",
   "execution_count": null,
   "id": "e1c94215",
   "metadata": {},
   "outputs": [],
   "source": []
  },
  {
   "cell_type": "code",
   "execution_count": 4,
   "id": "6414f52c",
   "metadata": {},
   "outputs": [
    {
     "name": "stdout",
     "output_type": "stream",
     "text": [
      "['01_simpleNeuralNetwork.ipynb', '02_multiLayerPerceptron.ipynb', '03_CNN.ipynb', '04_CNN_fashion_mnist.ipynb', '05_openCV.ipynb', '06_RNN_LSTM_GRU.ipynb', '07_LSTM_for_time_series_prediction.ipynb', '08_GRU_for_time_series_prediction.ipynb', '09_time_series.ipynb', 'testNoteBook.ipynb']\n"
     ]
    }
   ],
   "source": [
    "import os\n",
    "print(os.listdir())"
   ]
  },
  {
   "cell_type": "code",
   "execution_count": 5,
   "id": "374727bd",
   "metadata": {},
   "outputs": [
    {
     "name": "stdout",
     "output_type": "stream",
     "text": [
      "['c:\\\\Users\\\\shera\\\\anaconda3\\\\envs\\\\tf_env\\\\python39.zip', 'c:\\\\Users\\\\shera\\\\anaconda3\\\\envs\\\\tf_env\\\\DLLs', 'c:\\\\Users\\\\shera\\\\anaconda3\\\\envs\\\\tf_env\\\\lib', 'c:\\\\Users\\\\shera\\\\anaconda3\\\\envs\\\\tf_env', '', 'c:\\\\Users\\\\shera\\\\anaconda3\\\\envs\\\\tf_env\\\\lib\\\\site-packages', 'c:\\\\Users\\\\shera\\\\anaconda3\\\\envs\\\\tf_env\\\\lib\\\\site-packages\\\\win32', 'c:\\\\Users\\\\shera\\\\anaconda3\\\\envs\\\\tf_env\\\\lib\\\\site-packages\\\\win32\\\\lib', 'c:\\\\Users\\\\shera\\\\anaconda3\\\\envs\\\\tf_env\\\\lib\\\\site-packages\\\\Pythonwin']\n"
     ]
    }
   ],
   "source": [
    "import sys\n",
    "print(sys.path)"
   ]
  },
  {
   "cell_type": "code",
   "execution_count": 1,
   "id": "2420b1d1",
   "metadata": {},
   "outputs": [],
   "source": [
    "import statsmodels"
   ]
  },
  {
   "cell_type": "code",
   "execution_count": 2,
   "id": "0f0e88a4",
   "metadata": {},
   "outputs": [],
   "source": [
    "import statsmodels.api as sm"
   ]
  },
  {
   "cell_type": "code",
   "execution_count": null,
   "id": "9b99fe09",
   "metadata": {},
   "outputs": [],
   "source": []
  }
 ],
 "metadata": {
  "kernelspec": {
   "display_name": "tf_env",
   "language": "python",
   "name": "python3"
  },
  "language_info": {
   "codemirror_mode": {
    "name": "ipython",
    "version": 3
   },
   "file_extension": ".py",
   "mimetype": "text/x-python",
   "name": "python",
   "nbconvert_exporter": "python",
   "pygments_lexer": "ipython3",
   "version": "3.10.16"
  }
 },
 "nbformat": 4,
 "nbformat_minor": 5
}
